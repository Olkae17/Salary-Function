{
 "cells": [
  {
   "cell_type": "markdown",
   "id": "145dd297-582b-4d98-9265-5388aa439d16",
   "metadata": {},
   "source": [
    "# Importing the Data"
   ]
  },
  {
   "cell_type": "code",
   "execution_count": 1,
   "id": "1b283852-dee6-46ca-a3a7-173d2813d540",
   "metadata": {},
   "outputs": [
    {
     "name": "stderr",
     "output_type": "stream",
     "text": [
      "C:\\Users\\Olkae\\AppData\\Local\\Temp\\ipykernel_19328\\190359001.py:2: DtypeWarning: Columns (2,3,4,5) have mixed types. Specify dtype option on import or set low_memory=False.\n",
      "  df = pd.read_csv(\"C:\\\\Users\\\\Olkae\\\\Downloads\\\\Total.csv\\\\Total.csv\")\n"
     ]
    }
   ],
   "source": [
    "import pandas as pd\n",
    "df = pd.read_csv(\"C:\\\\Users\\\\Olkae\\\\Downloads\\\\Total.csv\\\\Total.csv\")"
   ]
  },
  {
   "cell_type": "markdown",
   "id": "109de3e9-ad5f-4522-9170-dfa60eb1325b",
   "metadata": {},
   "source": [
    "# Displaying the data info"
   ]
  },
  {
   "cell_type": "code",
   "execution_count": 4,
   "id": "9be8035e-eb30-47c3-acb9-d6a0fb6bea08",
   "metadata": {},
   "outputs": [
    {
     "data": {
      "text/html": [
       "<div>\n",
       "<style scoped>\n",
       "    .dataframe tbody tr th:only-of-type {\n",
       "        vertical-align: middle;\n",
       "    }\n",
       "\n",
       "    .dataframe tbody tr th {\n",
       "        vertical-align: top;\n",
       "    }\n",
       "\n",
       "    .dataframe thead th {\n",
       "        text-align: right;\n",
       "    }\n",
       "</style>\n",
       "<table border=\"1\" class=\"dataframe\">\n",
       "  <thead>\n",
       "    <tr style=\"text-align: right;\">\n",
       "      <th></th>\n",
       "      <th>EmployeeName</th>\n",
       "      <th>JobTitle</th>\n",
       "      <th>BasePay</th>\n",
       "      <th>OvertimePay</th>\n",
       "      <th>OtherPay</th>\n",
       "      <th>Benefits</th>\n",
       "      <th>TotalPay</th>\n",
       "      <th>TotalPayBenefits</th>\n",
       "      <th>Year</th>\n",
       "    </tr>\n",
       "  </thead>\n",
       "  <tbody>\n",
       "    <tr>\n",
       "      <th>0</th>\n",
       "      <td>NATHANIEL FORD</td>\n",
       "      <td>GENERAL MANAGER-METROPOLITAN TRANSIT AUTHORITY</td>\n",
       "      <td>167411.18</td>\n",
       "      <td>0.0</td>\n",
       "      <td>400184.25</td>\n",
       "      <td>Not Provided</td>\n",
       "      <td>567595.43</td>\n",
       "      <td>567595.43</td>\n",
       "      <td>2011</td>\n",
       "    </tr>\n",
       "    <tr>\n",
       "      <th>1</th>\n",
       "      <td>GARY JIMENEZ</td>\n",
       "      <td>CAPTAIN III (POLICE DEPARTMENT)</td>\n",
       "      <td>155966.02</td>\n",
       "      <td>245131.88</td>\n",
       "      <td>137811.38</td>\n",
       "      <td>Not Provided</td>\n",
       "      <td>538909.28</td>\n",
       "      <td>538909.28</td>\n",
       "      <td>2011</td>\n",
       "    </tr>\n",
       "    <tr>\n",
       "      <th>2</th>\n",
       "      <td>ALBERT PARDINI</td>\n",
       "      <td>CAPTAIN III (POLICE DEPARTMENT)</td>\n",
       "      <td>212739.13</td>\n",
       "      <td>106088.18</td>\n",
       "      <td>16452.6</td>\n",
       "      <td>Not Provided</td>\n",
       "      <td>335279.91</td>\n",
       "      <td>335279.91</td>\n",
       "      <td>2011</td>\n",
       "    </tr>\n",
       "    <tr>\n",
       "      <th>3</th>\n",
       "      <td>CHRISTOPHER CHONG</td>\n",
       "      <td>WIRE ROPE CABLE MAINTENANCE MECHANIC</td>\n",
       "      <td>77916.0</td>\n",
       "      <td>56120.71</td>\n",
       "      <td>198306.9</td>\n",
       "      <td>Not Provided</td>\n",
       "      <td>332343.61</td>\n",
       "      <td>332343.61</td>\n",
       "      <td>2011</td>\n",
       "    </tr>\n",
       "    <tr>\n",
       "      <th>4</th>\n",
       "      <td>PATRICK GARDNER</td>\n",
       "      <td>DEPUTY CHIEF OF DEPARTMENT,(FIRE DEPARTMENT)</td>\n",
       "      <td>134401.6</td>\n",
       "      <td>9737.0</td>\n",
       "      <td>182234.59</td>\n",
       "      <td>Not Provided</td>\n",
       "      <td>326373.19</td>\n",
       "      <td>326373.19</td>\n",
       "      <td>2011</td>\n",
       "    </tr>\n",
       "  </tbody>\n",
       "</table>\n",
       "</div>"
      ],
      "text/plain": [
       "        EmployeeName                                        JobTitle  \\\n",
       "0     NATHANIEL FORD  GENERAL MANAGER-METROPOLITAN TRANSIT AUTHORITY   \n",
       "1       GARY JIMENEZ                 CAPTAIN III (POLICE DEPARTMENT)   \n",
       "2     ALBERT PARDINI                 CAPTAIN III (POLICE DEPARTMENT)   \n",
       "3  CHRISTOPHER CHONG            WIRE ROPE CABLE MAINTENANCE MECHANIC   \n",
       "4    PATRICK GARDNER    DEPUTY CHIEF OF DEPARTMENT,(FIRE DEPARTMENT)   \n",
       "\n",
       "     BasePay OvertimePay   OtherPay      Benefits   TotalPay  \\\n",
       "0  167411.18         0.0  400184.25  Not Provided  567595.43   \n",
       "1  155966.02   245131.88  137811.38  Not Provided  538909.28   \n",
       "2  212739.13   106088.18    16452.6  Not Provided  335279.91   \n",
       "3    77916.0    56120.71   198306.9  Not Provided  332343.61   \n",
       "4   134401.6      9737.0  182234.59  Not Provided  326373.19   \n",
       "\n",
       "   TotalPayBenefits  Year  \n",
       "0         567595.43  2011  \n",
       "1         538909.28  2011  \n",
       "2         335279.91  2011  \n",
       "3         332343.61  2011  \n",
       "4         326373.19  2011  "
      ]
     },
     "execution_count": 4,
     "metadata": {},
     "output_type": "execute_result"
    }
   ],
   "source": [
    "df.head()"
   ]
  },
  {
   "cell_type": "code",
   "execution_count": 5,
   "id": "ebbcd321-677d-4f38-9251-bda9d1efbe8d",
   "metadata": {},
   "outputs": [
    {
     "data": {
      "text/plain": [
       "<bound method DataFrame.info of               EmployeeName                                        JobTitle  \\\n",
       "0           NATHANIEL FORD  GENERAL MANAGER-METROPOLITAN TRANSIT AUTHORITY   \n",
       "1             GARY JIMENEZ                 CAPTAIN III (POLICE DEPARTMENT)   \n",
       "2           ALBERT PARDINI                 CAPTAIN III (POLICE DEPARTMENT)   \n",
       "3        CHRISTOPHER CHONG            WIRE ROPE CABLE MAINTENANCE MECHANIC   \n",
       "4          PATRICK GARDNER    DEPUTY CHIEF OF DEPARTMENT,(FIRE DEPARTMENT)   \n",
       "...                    ...                                             ...   \n",
       "312877     Daniel W Plautz                          Public Service Trainee   \n",
       "312878    David J Thompson                                  Deputy Sheriff   \n",
       "312879  Keiko Weng Yee Lau                          Public Service Trainee   \n",
       "312880          David Wong                                  Deputy Sheriff   \n",
       "312881     Debora E Howard                               Recreation Leader   \n",
       "\n",
       "          BasePay OvertimePay   OtherPay      Benefits   TotalPay  \\\n",
       "0       167411.18         0.0  400184.25  Not Provided  567595.43   \n",
       "1       155966.02   245131.88  137811.38  Not Provided  538909.28   \n",
       "2       212739.13   106088.18    16452.6  Not Provided  335279.91   \n",
       "3         77916.0    56120.71   198306.9  Not Provided  332343.61   \n",
       "4        134401.6      9737.0  182234.59  Not Provided  326373.19   \n",
       "...           ...         ...        ...           ...        ...   \n",
       "312877        0.0         0.0        0.0           0.0       0.00   \n",
       "312878        0.0         0.0        0.0           0.0       0.00   \n",
       "312879        0.0         0.0        0.0           0.0       0.00   \n",
       "312880        0.0         0.0        0.0           0.0       0.00   \n",
       "312881        0.0         0.0        0.0           0.0       0.00   \n",
       "\n",
       "        TotalPayBenefits  Year  \n",
       "0              567595.43  2011  \n",
       "1              538909.28  2011  \n",
       "2              335279.91  2011  \n",
       "3              332343.61  2011  \n",
       "4              326373.19  2011  \n",
       "...                  ...   ...  \n",
       "312877              0.00  2018  \n",
       "312878              0.00  2018  \n",
       "312879              0.00  2018  \n",
       "312880              0.00  2018  \n",
       "312881              0.00  2018  \n",
       "\n",
       "[312882 rows x 9 columns]>"
      ]
     },
     "execution_count": 5,
     "metadata": {},
     "output_type": "execute_result"
    }
   ],
   "source": [
    "df.info"
   ]
  },
  {
   "cell_type": "code",
   "execution_count": 6,
   "id": "1266bd65-d19c-43b1-8a52-6d1ece5d9a0f",
   "metadata": {},
   "outputs": [
    {
     "name": "stdout",
     "output_type": "stream",
     "text": [
      "Index(['EmployeeName', 'JobTitle', 'BasePay', 'OvertimePay', 'OtherPay',\n",
      "       'Benefits', 'TotalPay', 'TotalPayBenefits', 'Year'],\n",
      "      dtype='object')\n"
     ]
    }
   ],
   "source": [
    "print(df.columns)"
   ]
  },
  {
   "cell_type": "markdown",
   "id": "70c08b41-52d6-47dc-9354-ade7ab2a26ca",
   "metadata": {},
   "source": [
    "# Employee Function to Return Employee Details"
   ]
  },
  {
   "cell_type": "code",
   "execution_count": 7,
   "id": "0a0fd0f2-be02-4a5b-a732-ff8c66e33143",
   "metadata": {},
   "outputs": [],
   "source": [
    "def get_employee_details(name):\n",
    "    try:\n",
    "        employee = df[df['EmployeeName'].str.lower() == name.lower()]\n",
    "        if employee.empty:\n",
    "            raise ValueError(f\"No employee found with name: {name}\")\n",
    "        return employee\n",
    "    except Exception as e:\n",
    "        return str(e)"
   ]
  },
  {
   "cell_type": "markdown",
   "id": "d7b04bab-84a4-49a5-ae91-a007259017bf",
   "metadata": {},
   "source": [
    "## Example usage"
   ]
  },
  {
   "cell_type": "code",
   "execution_count": 8,
   "id": "03da79b5-7529-49bc-bc08-f254d4d04c14",
   "metadata": {},
   "outputs": [
    {
     "name": "stdout",
     "output_type": "stream",
     "text": [
      "No employee found with name: Kayode Oladele\n"
     ]
    }
   ],
   "source": [
    "print(get_employee_details(\"Kayode Oladele\"))"
   ]
  },
  {
   "cell_type": "code",
   "execution_count": 9,
   "id": "9dae997e-80bf-41e7-aec7-e3d80eac8b42",
   "metadata": {},
   "outputs": [
    {
     "name": "stdout",
     "output_type": "stream",
     "text": [
      "       EmployeeName                    JobTitle   BasePay OvertimePay  \\\n",
      "10054    DAVID WONG              DEPUTY SHERIFF  86284.35     4007.05   \n",
      "14336    DAVID WONG              DEPUTY SHERIFF  75224.28       14.68   \n",
      "15835    DAVID WONG            TRANSIT OPERATOR  65564.82     8468.03   \n",
      "19625    DAVID WONG  SENIOR COLLECTIONS OFFICER  64318.41         0.0   \n",
      "24680    DAVID WONG                   CUSTODIAN   48472.4      832.65   \n",
      "24739    DAVID WONG              DEPUTY SHERIFF  40080.01     1614.81   \n",
      "30210    DAVID WONG                   CUSTODIAN  15169.75         0.0   \n",
      "30826    DAVID WONG                      VENDOR  12893.58         0.0   \n",
      "46801    David Wong              Deputy Sheriff   88374.0     2676.94   \n",
      "50288    David Wong              Deputy Sheriff   80368.0      453.36   \n",
      "53357    David Wong            Transit Operator  63877.15      5189.1   \n",
      "54991    David Wong  Senior Collections Officer   68358.1         0.0   \n",
      "59887    David Wong                   Custodian   51492.8     2381.85   \n",
      "66631    David Wong                   Custodian  19270.67         0.0   \n",
      "67905    David Wong         Admission Attendant  13724.88         0.0   \n",
      "117422   David Wong              Deputy Sheriff  94191.00    22503.68   \n",
      "156069   David Wong              Deputy Sheriff  97729.53    16673.11   \n",
      "198512   David Wong              Deputy Sheriff  97515.85        0.00   \n",
      "262612   David Wong              Deputy Sheriff   23614.0         0.0   \n",
      "312880   David Wong              Deputy Sheriff       0.0         0.0   \n",
      "\n",
      "       OtherPay      Benefits   TotalPay  TotalPayBenefits  Year  \n",
      "10054   6604.97  Not Provided   96896.37          96896.37  2011  \n",
      "14336   5130.15  Not Provided   80369.11          80369.11  2011  \n",
      "15835     763.7  Not Provided   74796.55          74796.55  2011  \n",
      "19625       0.0  Not Provided   64318.41          64318.41  2011  \n",
      "24680     777.0  Not Provided   50082.05          50082.05  2011  \n",
      "24739   8179.03  Not Provided   49873.85          49873.85  2011  \n",
      "30210    201.28  Not Provided   15371.03          15371.03  2011  \n",
      "30826       0.0  Not Provided   12893.58          12893.58  2011  \n",
      "46801   6364.33      36108.08   97415.27         133523.35  2012  \n",
      "50288   4242.95      32570.71   85064.31         117635.02  2012  \n",
      "53357    724.59      35678.09   69790.84         105468.93  2012  \n",
      "54991       0.0      31684.45   68358.10         100042.55  2012  \n",
      "59887    1239.0      26900.02   55113.65          82013.67  2012  \n",
      "66631    565.75       1891.16   19836.42          21727.58  2012  \n",
      "67905       0.0       1065.16   13724.88          14790.04  2012  \n",
      "117422  9122.56      35555.96  125817.24         161373.20  2014  \n",
      "156069  6812.71      39132.38  121215.35         160347.73  2015  \n",
      "198512  6800.98      41052.46  104316.83         145369.29  2016  \n",
      "262612  1416.84      10140.41   25030.84          35171.25  2017  \n",
      "312880      0.0           0.0       0.00              0.00  2018  \n"
     ]
    }
   ],
   "source": [
    "print(get_employee_details(\"David Wong\"))"
   ]
  },
  {
   "cell_type": "markdown",
   "id": "4c5f0811-3bce-42a8-9e33-b216773da475",
   "metadata": {},
   "source": [
    "# DataFrame to dictionary format"
   ]
  },
  {
   "cell_type": "code",
   "execution_count": 10,
   "id": "1ae4ef0d-71cb-4e02-92ba-67d3b8a9e16d",
   "metadata": {},
   "outputs": [
    {
     "name": "stderr",
     "output_type": "stream",
     "text": [
      "C:\\Users\\Olkae\\AppData\\Local\\Temp\\ipykernel_19328\\2148910536.py:1: UserWarning: DataFrame columns are not unique, some columns will be omitted.\n",
      "  employee_dict = df.set_index('EmployeeName').T.to_dict()\n"
     ]
    }
   ],
   "source": [
    "employee_dict = df.set_index('EmployeeName').T.to_dict()"
   ]
  },
  {
   "cell_type": "markdown",
   "id": "fdc3fab6-a473-4d0b-b8c6-2bc1270296f4",
   "metadata": {},
   "source": [
    "## Example: Access an employee's details"
   ]
  },
  {
   "cell_type": "code",
   "execution_count": 11,
   "id": "3a406877-3722-4370-bf2a-59b45c68eb22",
   "metadata": {},
   "outputs": [
    {
     "data": {
      "text/plain": [
       "{'JobTitle': 'GENERAL MANAGER-METROPOLITAN TRANSIT AUTHORITY',\n",
       " 'BasePay': 167411.18,\n",
       " 'OvertimePay': 0.0,\n",
       " 'OtherPay': 400184.25,\n",
       " 'Benefits': 'Not Provided',\n",
       " 'TotalPay': 567595.43,\n",
       " 'TotalPayBenefits': 567595.43,\n",
       " 'Year': 2011}"
      ]
     },
     "execution_count": 11,
     "metadata": {},
     "output_type": "execute_result"
    }
   ],
   "source": [
    "employee_dict.get(\"NATHANIEL FORD\", \"Employee not found\")"
   ]
  },
  {
   "cell_type": "code",
   "execution_count": 12,
   "id": "387a6e8c-0e57-4f5b-b728-2e2139ebd95a",
   "metadata": {},
   "outputs": [
    {
     "data": {
      "text/plain": [
       "'Employee not found'"
      ]
     },
     "execution_count": 12,
     "metadata": {},
     "output_type": "execute_result"
    }
   ],
   "source": [
    "employee_dict.get(\"Kayode Oladele\", \"Employee not found\")"
   ]
  },
  {
   "cell_type": "markdown",
   "id": "ad2e5a5e-90e1-4474-8b58-bac8899fb9be",
   "metadata": {},
   "source": [
    "# Exporting Employee Details to CSV & Zip Folder"
   ]
  },
  {
   "cell_type": "code",
   "execution_count": 15,
   "id": "cd09fd60-8653-4b3a-97f6-1d12eedb4042",
   "metadata": {},
   "outputs": [
    {
     "name": "stdout",
     "output_type": "stream",
     "text": [
      "Profile for NATHANIEL FORD exported and zipped successfully.\n"
     ]
    }
   ],
   "source": [
    "import os\n",
    "import zipfile\n",
    "\n",
    "def export_employee_to_csv(name):\n",
    "    try:\n",
    "        employee = get_employee_details(name)\n",
    "        if isinstance(employee, str):\n",
    "            raise ValueError(employee)\n",
    "        \n",
    "        folder = \"Employee Profile\"\n",
    "        filename = f\"{folder}/{name.replace(' ', '_')}_profile.csv\"\n",
    "        \n",
    "        # Creating folder\n",
    "        os.makedirs(folder, exist_ok=True)\n",
    "        \n",
    "        # Saving file to CSV\n",
    "        employee.to_csv(filename, index=False)\n",
    "        \n",
    "        # Zipping the folder\n",
    "        with zipfile.ZipFile(f\"{folder}.zip\", 'w') as zipf:\n",
    "            zipf.write(filename, arcname=os.path.basename(filename))\n",
    "        \n",
    "        print(f\"Profile for {name} exported and zipped successfully.\")\n",
    "        \n",
    "    except Exception as e:\n",
    "        print(f\"Error: {e}\")\n",
    "\n",
    "export_employee_to_csv(\"NATHANIEL FORD\")"
   ]
  },
  {
   "cell_type": "markdown",
   "id": "9c66081e-70ff-4089-8bf0-0f4286f98431",
   "metadata": {},
   "source": [
    "# R Script to Unzip the Folder and Display the Data in R"
   ]
  },
  {
   "cell_type": "code",
   "execution_count": null,
   "id": "4df0a01c-37b8-4c8a-ba01-eeb58a02e445",
   "metadata": {},
   "outputs": [],
   "source": [
    "# Unzip the folder\n",
    "unzip(\"C:\\\\Users\\\\Olkae\\\\Employee Profile.zip\", exdir = \"unzipped_profile\")\n",
    "\n",
    "# Read the CSV\n",
    "data <- read.csv(\"unzipped_profile/NATHANIEL_FORD_profile.csv\")\n",
    "\n",
    "# Display the data\n",
    "print(data)"
   ]
  }
 ],
 "metadata": {
  "kernelspec": {
   "display_name": "Python 3 (ipykernel)",
   "language": "python",
   "name": "python3"
  },
  "language_info": {
   "codemirror_mode": {
    "name": "ipython",
    "version": 3
   },
   "file_extension": ".py",
   "mimetype": "text/x-python",
   "name": "python",
   "nbconvert_exporter": "python",
   "pygments_lexer": "ipython3",
   "version": "3.12.7"
  }
 },
 "nbformat": 4,
 "nbformat_minor": 5
}
